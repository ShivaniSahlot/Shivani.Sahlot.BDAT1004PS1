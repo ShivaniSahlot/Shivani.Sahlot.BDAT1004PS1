{
 "cells": [
  {
   "cell_type": "markdown",
   "id": "4d81ea07-b397-4edf-adea-ab9824f77c6b",
   "metadata": {},
   "source": [
    "#Question 1\n",
    "\n",
    "5\n",
    "5.0\n",
    "5 > 1\n",
    "'5'\n",
    "5 * 2\n",
    "'5' * 2\n",
    "'5' + '2'\n",
    "5 / 2\n",
    "5 % 2\n",
    "{5, 2, 1}\n",
    "5 == 3\n",
    "Pi (the number)"
   ]
  },
  {
   "cell_type": "markdown",
   "id": "e20deed7-2d6b-496e-9b4e-e1b5e0479f65",
   "metadata": {},
   "source": [
    "|Value              |Data type            |                \n",
    "| :---              |-----------------:   |           \n",
    "| 5                 |  int                | \n",
    "| 5.0               |  float              |  \n",
    "| 5 > 1             |  bool               |  \n",
    "| '5'               |  string             |  \n",
    "| 5 * 2             |  int                |   \n",
    "| '5' * 2           |  string             |  \n",
    "| '5' + '2'         |  stri               |\n",
    "| 5 / 2             |  float              |\n",
    "| 5 % 2             |  int                |\n",
    "| {5, 2, 1}         |  lis                |\n",
    "| 5 == 3            |  bool               |\n",
    "| Pi (the number)   |  float              |"
   ]
  },
  {
   "cell_type": "markdown",
   "id": "f24763ac-9044-4fe1-91cc-5c2bd968a7bd",
   "metadata": {},
   "source": [
    "#Question 2\n",
    "Write (and evaluate) python expressions that answer these questions:\n",
    "a. How many letters are there in 'Supercalifragilisticexpialidocious'?\n",
    "b. Does 'Supercalifragilisticexpialidocious' contain 'ice' as a substring?\n",
    "c. Which of the following words is the longest:\n",
    "Supercalifragilisticexpialidocious, Honorificabilitudinitatibus, or Bababadalgharaghtakamminarronnkonn?\n",
    "d. Which composer comes first in the dictionary: 'Berlioz', 'Borodin', 'Brian', 'Bartok', 'Bellini', 'Buxtehude', 'Bernstein'. Which one comes last?"
   ]
  },
  {
   "cell_type": "code",
   "execution_count": 1,
   "id": "0bd9157f-ea86-44b8-99b9-4b85d9164c7e",
   "metadata": {
    "scrolled": true
   },
   "outputs": [
    {
     "name": "stdout",
     "output_type": "stream",
     "text": [
      "34\n",
      "yes, it is present\n",
      "Supercalifragilisticexpialidocious\n",
      "The first composer is  Bartok\n",
      "The last composer is  Buxtehude\n"
     ]
    }
   ],
   "source": [
    "# a. To find the length of the given string\n",
    "\n",
    "teststring_a = 'Supercalifragilisticexpialidocious'\n",
    "length_of_a = len(teststring_a)\n",
    "print(length_of_a)\n",
    "\n",
    "# b. To check the presence of the substring\n",
    "\n",
    "teststring_a = 'Supercalifragilisticexpialidocious'\n",
    "if( 'ice' in 'Supercalifragilisticexpialidocious'):\n",
    "  print ('yes, it is present') \n",
    "else:\n",
    "  print ('not present')\n",
    "\n",
    "# c. To find the longest word amongst 3 strings\n",
    "\n",
    "#creating an array of the 3 words\n",
    "\n",
    "strings= ['Supercalifragilisticexpialidocious','Honorificabilitudinitatibus','Bababadalgharaghtakamminarronnkonn']\n",
    "\n",
    "#declaring a variable to store the longest word I\n",
    "\n",
    "longestword= \"\"\n",
    "\n",
    "#running a for loop to check the compare the lengths of the 3 words\n",
    "\n",
    "for (string) in (strings):\n",
    "    if len(strings) > len(longestword):\n",
    "     longestword = string\n",
    "\n",
    "print (longestword)\n",
    "\n",
    "# d. To find the first and last composer \n",
    "\n",
    "#creating array for composer names\n",
    "\n",
    "composers = ['Berlioz', \n",
    "             'Borodin', \n",
    "             'Brian', \n",
    "             'Bartok', \n",
    "             'Bellini', \n",
    "             'Buxtehude', \n",
    "             'Bernstein']\n",
    "\n",
    "def dictionary(composers):\n",
    "    n=len(composers)\n",
    "    for i in range(n):\n",
    "        for j in range (0,n-i-1):\n",
    "            if composers[j]>composers[j+1]:\n",
    "             composers[j], composers[j+1]=composers[j+1],composers[j]\n",
    "\n",
    "dictionary(composers)\n",
    "print (\"The first composer is \", composers[0])\n",
    "print (\"The last composer is \", composers[-1])\n",
    "\n"
   ]
  },
  {
   "cell_type": "markdown",
   "id": "e8c5d6b6-57e9-458e-b30b-f8b3a79c5fd4",
   "metadata": {},
   "source": [
    "#question 3\n",
    "\n",
    "Implement function triangleArea(a,b,c) that takes as input the lengths of the 3 \n",
    "sides of a triangle and returns the area of the triangle. By Heron's\n",
    "\n",
    "formula, the are \n",
    "of a triangle with side lengths a, b, and c  s\n",
    "s(s - a)(s -b)(s -c), where\n",
    "s = (a +b + c)\n",
    " /2.\n",
    ">>> triangleArea(2,2,2)\n",
    "1.7320508075688772"
   ]
  },
  {
   "cell_type": "code",
   "execution_count": 39,
   "id": "e0727354-1366-442d-8f6d-cc31112a867d",
   "metadata": {},
   "outputs": [
    {
     "name": "stdin",
     "output_type": "stream",
     "text": [
      "Input the length of side a:  2\n",
      "Input the length of side b:  3\n",
      "Input the length of side c:  4\n"
     ]
    },
    {
     "data": {
      "text/plain": [
       "2.9047375096555625"
      ]
     },
     "execution_count": 39,
     "metadata": {},
     "output_type": "execute_result"
    }
   ],
   "source": [
    "import math\n",
    "\n",
    "def Area_of_triangle():\n",
    " # Input the lengths of the sides of the triangle\n",
    "    a = float(input(\"Input the length of side a: \"))\n",
    "    b = float(input(\"Input the length of side b: \"))\n",
    "    c = float(input(\"Input the length of side c: \"))\n",
    "    \n",
    "    # Calculating semi-perimeter\n",
    "    s = (a + b + c) / 2\n",
    "    \n",
    "    # By Heron's formula to calculate area of triangle\n",
    "    area = math.sqrt(s * (s - a) * (s - b) * (s - c))\n",
    "    \n",
    "    return area\n",
    "Area_of_triangle()"
   ]
  },
  {
   "cell_type": "markdown",
   "id": "78c7c62e-8516-4d7a-aaff-20b634c3d348",
   "metadata": {},
   "source": [
    "#Question 4\n",
    "\n",
    "Write a program in python to separate odd and even integers in separate arrays. Go to the editor\n",
    "\n",
    "Test Data :\n",
    "\n",
    "Input the number of elements to be stored in the array :5\n",
    "\n",
    "Input 5 elements in the array :\n",
    "\n",
    "element - 0 : 25\n",
    "element - 1 : 47\n",
    "element - 2 : 42\n",
    "element - 3 : 56\n",
    "element - 4 : 32\n",
    "\n",
    "Expected Output:\n",
    "\n",
    "The Even elements are:\n",
    "42 56 32\n",
    "\n",
    "The Odd elements are :\n",
    "25 47"
   ]
  },
  {
   "cell_type": "code",
   "execution_count": 43,
   "id": "96a14e8f-1c5f-4b69-a92c-6a8cde92ac1a",
   "metadata": {},
   "outputs": [
    {
     "name": "stdin",
     "output_type": "stream",
     "text": [
      "Enter the total number of elements to be stored in the array:  6\n",
      "element - 1 :  1\n",
      "element - 2 :  25\n",
      "element - 3 :  56\n",
      "element - 4 :  29\n",
      "element - 5 :  63\n",
      "element - 6 :  72\n"
     ]
    },
    {
     "name": "stdout",
     "output_type": "stream",
     "text": [
      "\n",
      "The Even elements are:\n",
      "56 72 \n",
      "The Odd elements are:\n",
      "1 25 29 63 "
     ]
    }
   ],
   "source": [
    "#Function to separate odd and even numbers into different arrays\n",
    "\n",
    "def Odd_Even():\n",
    "    \n",
    "    # Enter the total number of elements to be stored in the array\n",
    "    n = int(input(\"Enter the total number of elements to be stored in the array: \"))\n",
    "    \n",
    "    # Initializing arrays \n",
    "    Even_array = []\n",
    "    Odd_array = []\n",
    "    \n",
    "    # Entering the elements of arrays\n",
    "    for i in range(n):\n",
    "        element = int(input(f\"element - {i+1} : \"))\n",
    "        if element % 2 == 0:\n",
    "            Even_array.append(element)\n",
    "        else:\n",
    "            Odd_array.append(element)\n",
    "    \n",
    "    # Displaying the even numbers\n",
    "    print(\"\\nThe Even elements are:\")\n",
    "    for num in Even_array:\n",
    "        print(num, end=' ')\n",
    "    \n",
    "    # Displaying the odd numbers\n",
    "    print(\"\\nThe Odd elements are:\")\n",
    "    for num in Odd_array:\n",
    "        print(num, end=' ')\n",
    "Odd_Even()"
   ]
  },
  {
   "cell_type": "markdown",
   "id": "611ba2e5-8a56-4b4e-aa4c-c43ad5759008",
   "metadata": {},
   "source": [
    "#Question 5\n",
    "\n",
    "a. Write a function inside(x,y,x1,y1,x2,y2) that returns True or False depending on whether the point (x,y) lies in the rectangle with lower left corner (x1,y1) and upper right corner (x2,y2).\n",
    "\n",
    ">>> inside(1,1,0,0,2,3)\n",
    "True\n",
    ">>> inside(-1,-1,0,0,2,3)\n",
    "False\n",
    "\n",
    "b. Use function inside() from part a. to write an expression that tests whether the point (1,1) lies in both of the following rectangles: one with lower left corner (0.3, 0.5) and upper right corner (1.1, 0.7) and the other with lower left corner (0.5, 0.2) and upper right corner (1.1, 2)."
   ]
  },
  {
   "cell_type": "code",
   "execution_count": 11,
   "id": "491c15b9-d42f-48d1-81de-38cfd5b2e51a",
   "metadata": {},
   "outputs": [
    {
     "name": "stdin",
     "output_type": "stream",
     "text": [
      "Enter the x-coordinate of the point you wamt to check:  3\n",
      "Enter the y-coordinate of the point you want to check:  4\n",
      "Enter the x-coordinate of the lower-left corner of the rectangle:  4\n",
      "Enter the y-coordinate of the lower-left corner of the rectangle:  4\n",
      "Enter the x-coordinate of the upper-right corner of the rectangle:  5\n",
      "Enter the y-coordinate of the upper-right corner of the rectangle:  5\n"
     ]
    },
    {
     "name": "stdout",
     "output_type": "stream",
     "text": [
      "false\n"
     ]
    }
   ],
   "source": [
    "# a.To check if a point is inside a rectangle\n",
    "\n",
    "def inside(x, y, x1, y1, x2, y2):\n",
    "    return x1 <= x <= x2 and y1 <= y <= y2\n",
    "\n",
    "# Get user input for the point you want to check\n",
    "x = float(input(\"Enter the x-coordinate of the point you wamt to check: \"))\n",
    "y = float(input(\"Enter the y-coordinate of the point you want to check: \"))\n",
    "\n",
    "# Get user input for the rectangle corners\n",
    "x1 = float(input(\"Enter the x-coordinate of the lower-left corner of the rectangle: \"))\n",
    "y1 = float(input(\"Enter the y-coordinate of the lower-left corner of the rectangle: \"))\n",
    "x2 = float(input(\"Enter the x-coordinate of the upper-right corner of the rectangle: \"))\n",
    "y2 = float(input(\"Enter the y-coordinate of the upper-right corner of the rectangle: \"))\n",
    "\n",
    "# Check if the point is inside the rectangle\n",
    "if inside(x, y, x1, y1, x2, y2):\n",
    "    print('true')\n",
    "else:\n",
    "    print('false')\n",
    "\n",
    "# b. To check if the point (1, 1) lies in both rectangles using the checkpoint() function :\n",
    "\n",
    "#Checking if point (1,1) lies in both rectangles\n",
    "rectangle1 = inside(1, 1, 0.3, 0.5, 1.1, 0.7)\n",
    "rectangle2= inside(1, 1, 0.5, 0.2, 1.1, 2)\n",
    "\n",
    "# Check if the point (1,1) is inside both rectangles\n",
    "if (rectangle1 and rectangle2):\n",
    "\n",
    "  print('true')"
   ]
  },
  {
   "cell_type": "markdown",
   "id": "83e5e651-f518-446b-865d-668374442617",
   "metadata": {},
   "source": [
    "#Question 6\n",
    "16. You can turn a word into pig-Latin using the following two rules (simplified):\n",
    "• If the word starts with a consonant, move that letter to the end and append\n",
    "'ay'. For example, 'happy' becomes 'appyhay' and 'pencil' becomes 'encilpay'.\n",
    "• If the word starts with a vowel, simply append 'way' to the end of the word.\n",
    "For example, 'enter' becomes 'enterway' and 'other' becomes 'otherway' . For\n",
    "our purposes, there are 5 vowels: a, e, i, o, u (so we count y as a consonant).\n",
    "\n",
    "Write a function pig() that takes a word (i.e., a string) as input and returns its pig-\n",
    "Latin form. Your function should still work if the input word contains upper case\n",
    "characters. Your output should always be lower case however.\n",
    ">>> pig('happy')\n",
    "'appyhay'\n",
    ">>> pig('Enter')\n",
    "'enterway'"
   ]
  },
  {
   "cell_type": "code",
   "execution_count": 15,
   "id": "7b0db954-a9f2-4142-8b6b-6b19c624eba7",
   "metadata": {},
   "outputs": [
    {
     "name": "stdout",
     "output_type": "stream",
     "text": [
      "appyhay\n",
      "enterway\n"
     ]
    }
   ],
   "source": [
    "#To convert a word to its pig latin form\n",
    "\n",
    "def piglatin(string):\n",
    "    # Converting the word to lowercase\n",
    "    string = string.lower()\n",
    "    \n",
    "    # Defining vowels\n",
    "    vowels = 'aeiou'\n",
    "    \n",
    "    # Check if the first letter is a vowel\n",
    "    if string[0] in vowels:\n",
    "        return string + 'way'\n",
    "    else:\n",
    "        # Moving the first consonant to the end and add 'ay'\n",
    "        return string[1:] + string[0] + 'ay'\n",
    "\n",
    "# converting example strings to pig latin forms\n",
    "print(piglatin('happy'))  \n",
    "print(piglatin('Enter'))"
   ]
  },
  {
   "cell_type": "markdown",
   "id": "60209fb6-8eef-4a7f-85b7-97c0169beb79",
   "metadata": {},
   "source": [
    "#Question 7\n",
    "File bloodtype1.txt records blood-types of patients (A, B, AB, O or OO) at a clinic.\n",
    "Write a function bldcount() that reads the file with name name and reports (i.e.,\n",
    "prints) how many patients there are in each bloodtype.\n",
    ">>> bldcount('bloodtype.txt')\n",
    "There are 10 patients of blood type A.\n",
    "There is one patient of blood type B.\n",
    "There are 10 patients of blood type AB.\n",
    "There are 12 patients of blood type O.\n",
    "There are no patients of blood type OO."
   ]
  },
  {
   "cell_type": "code",
   "execution_count": 3,
   "id": "af402d8d-6c78-4fa1-a2db-b4b6cf2d2f2b",
   "metadata": {},
   "outputs": [
    {
     "name": "stdout",
     "output_type": "stream",
     "text": [
      "There are 10 patients of blood type A\n",
      "There is one patient of blood type B\n",
      "There are 10 patients of blood type AB\n",
      "There are 12 patients of blood type O\n",
      "There are no patients of blood type OO\n"
     ]
    }
   ],
   "source": [
    "# Function to count the occurrences of different blood types from a given file\n",
    "def blood_count(file_name):\n",
    "    \n",
    "    # Dictionary to store the count of each blood type\n",
    "    blood_types = {'A': 0, 'B': 0, 'AB': 0, 'O': 0, 'OO': 0} \n",
    "    \n",
    "    # Open the file in read mode and read its contents\n",
    "    blood_info = open(file_name, 'r')                        \n",
    "    \n",
    "    # Read the contents of the file and split them into individual blood types\n",
    "    blood_data = blood_info.read().split()\n",
    "    \n",
    "    # Iterate over the blood types found in the file and update the counts\n",
    "    for blood_type in blood_data:                             \n",
    "        if blood_type in blood_types:\n",
    "            blood_types[blood_type] += 1\n",
    "    \n",
    "    # Print the results based on the count of each blood type\n",
    "    for blood_type, count in blood_types.items():             \n",
    "        if count == 0:\n",
    "            print(\"There are no patients of blood type {}\".format(blood_type))\n",
    "        elif count == 1:\n",
    "            print(\"There is one patient of blood type {}\".format(blood_type))\n",
    "        else:\n",
    "            print(\"There are {} patients of blood type {}\".format(count, blood_type))\n",
    "\n",
    "# Call the function with the desired file name\n",
    "blood_count(\"blood_data.txt\")\n"
   ]
  },
  {
   "cell_type": "markdown",
   "id": "8d38ac3c-e5c3-4022-bd7c-b82a9a3438cb",
   "metadata": {},
   "source": [
    "# Question 8 \n",
    "Write a function curconv() that takes as input:\n",
    "1. a currency represented using a string (e.g., 'JPY' for the Japanese Yen or\n",
    "'EUR' for the Euro)\n",
    "2. an amount\n",
    "and then converts and returns the amount in US dollars.\n",
    ">>> curconv('EUR', 100)\n",
    "122.96544\n",
    ">>> curconv('JPY', 100)\n",
    "1.241401\n",
    "The currency rates you will need are stored in file currencies.txt:\n",
    "AUD 1.0345157 Australian Dollar\n",
    "CHF 1.0237414 Swiss Franc\n",
    "CNY 0.1550176 Chinese Yuan"
   ]
  },
  {
   "cell_type": "code",
   "execution_count": 9,
   "id": "311d7755-b531-44c8-a018-8c184002d800",
   "metadata": {},
   "outputs": [
    {
     "name": "stdout",
     "output_type": "stream",
     "text": [
      "122.96544\n",
      "1.241401\n"
     ]
    }
   ],
   "source": [
    "def currency_converter(currency, amount):\n",
    "                                                   \n",
    "    \n",
    "    currency_file = open('currencies.txt', 'r') \n",
    "    for bills in currency_file:\n",
    "        \n",
    "        currency_data = bills.split()\n",
    "       \n",
    "        if currency_data[0] == currency:\n",
    "            \n",
    "            rate = float(currency_data[1])\n",
    "            return amount * rate\n",
    "    \n",
    "   \n",
    "    return \"Currency not found\"\n",
    "\n",
    "\n",
    "print(currency_converter('EUR',100))\n",
    "print(currency_converter('JPY',100))"
   ]
  },
  {
   "cell_type": "markdown",
   "id": "cd27279a-967d-4c87-b7b7-1c4925460b25",
   "metadata": {},
   "source": [
    "#Question 9\n",
    "\n",
    "Each of the following will cause an exception (an error). Identify what type of exception each will cause.\n",
    "Trying to add incompatible variables, as i \n",
    "adding 6 + ‘a’\n",
    "Referring to the12\n",
    "th item of a list that has onl  10\n",
    "items\n",
    "Using a value that is out of range for a unct \n",
    "on’s\n",
    "input, such as calling math.sqrt( 1.0)\n",
    "Using an undeclared variable  uch as\n",
    " p rint(x)\n",
    "when x has not been defined\n",
    "Trying to open a file that does not ex st, such as\n",
    "mistyping the file name or looking in the wrong\n",
    "directory."
   ]
  },
  {
   "cell_type": "markdown",
   "id": "c90be3eb-05c9-4155-8fe3-fd0bd4b5f487",
   "metadata": {},
   "source": [
    "question 9 - solution: Trying to add incompatible variables, as in adding 6 + ‘a’   -  TypeError\n",
    "\n",
    "Referring to the 12th item of a list that has only 10 items  -  IndexError\n",
    "\n",
    "Using a value that is out of range for a function’s input, such as calling math.sqrt( 1.0)  - ValueError\n",
    "\n",
    "Using an undeclared variable, such as print(x) when x has not been defined  - NameError\n",
    "\n",
    "Trying to open a file that does not exist, such as mistyping the file name or looking in the wrong directory  -  FileNotFoundError"
   ]
  },
  {
   "cell_type": "markdown",
   "id": "1897803f-214d-4705-ae7c-7b8e3533b5bd",
   "metadata": {},
   "source": [
    "#Question 10\n",
    "\n",
    "Encryption is the process of hiding the meaning of a text by substituting letters in the\n",
    "message with other letters, according to some system. If the process is successful, no\n",
    "one but the intended recipient can understand the encrypted message. Cryptanalysis\n",
    "refers to attempts to undo the encryption, even if some details of the encryption are\n",
    "unknown (for example, if an encrypted message has been intercepted). The first step\n",
    "of cryptanalysis is often to build up a table of letter frequencies in the encrypted text.\n",
    "Assume that the string letters is already defined as\n",
    "'abcdefghijklmnopqrstuvwxyz'. Write a function called frequencies()\n",
    "that takes a string as its only parameter, and returns a list of integers, showing the\n",
    "number of times each character appears in the text. Your function may ignore any\n",
    "characters that are not in letters."
   ]
  },
  {
   "cell_type": "code",
   "execution_count": 11,
   "id": "823d77fa-3ea7-4468-b2e1-8d137f36295e",
   "metadata": {},
   "outputs": [
    {
     "name": "stdin",
     "output_type": "stream",
     "text": [
      "Enter your text apple\n"
     ]
    },
    {
     "name": "stdout",
     "output_type": "stream",
     "text": [
      "[1, 0, 0, 0, 1, 0, 0, 0, 0, 0, 0, 1, 0, 0, 0, 2, 0, 0, 0, 0, 0, 0, 0, 0, 0, 0]\n"
     ]
    }
   ],
   "source": [
    "def frequencies(text):\n",
    "    # Define the alphabet\n",
    "    letters = 'abcdefghijklmnopqrstuvwxyz'\n",
    "    \n",
    "    # Initialize a list of zeros with the same length as the alphabet\n",
    "    freq_list = [0] * len(letters)\n",
    "    \n",
    "    # Convert the text to lowercase to make the count case-insensitive\n",
    "    text = text.lower()\n",
    "    \n",
    "    # Loop through each character in the text\n",
    "    for char in text:\n",
    "        if char in letters:\n",
    "            # Find the index of the character in the alphabet and increment its count\n",
    "            index = letters.index(char)\n",
    "            freq_list[index] += 1\n",
    "    \n",
    "    return freq_list\n",
    "\n",
    "input_text = input(\"Enter your text\")\n",
    "print(frequencies(input_text))"
   ]
  },
  {
   "cell_type": "code",
   "execution_count": null,
   "id": "982b7a37-1344-47ad-bdcd-b7848ae15189",
   "metadata": {},
   "outputs": [],
   "source": []
  }
 ],
 "metadata": {
  "kernelspec": {
   "display_name": "Python 3 (ipykernel)",
   "language": "python",
   "name": "python3"
  },
  "language_info": {
   "codemirror_mode": {
    "name": "ipython",
    "version": 3
   },
   "file_extension": ".py",
   "mimetype": "text/x-python",
   "name": "python",
   "nbconvert_exporter": "python",
   "pygments_lexer": "ipython3",
   "version": "3.12.4"
  }
 },
 "nbformat": 4,
 "nbformat_minor": 5
}
